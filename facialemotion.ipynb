{
  "nbformat": 4,
  "nbformat_minor": 0,
  "metadata": {
    "colab": {
      "name": "Copy of facialemotion.ipynb",
      "provenance": [],
      "collapsed_sections": [],
      "include_colab_link": true
    },
    "kernelspec": {
      "name": "python3",
      "display_name": "Python 3"
    },
    "accelerator": "GPU"
  },
  "cells": [
    {
      "cell_type": "markdown",
      "metadata": {
        "id": "view-in-github",
        "colab_type": "text"
      },
      "source": [
        "<a href=\"https://colab.research.google.com/github/lilyblack31/Mental-Health/blob/main/facialemotion.ipynb\" target=\"_parent\"><img src=\"https://colab.research.google.com/assets/colab-badge.svg\" alt=\"Open In Colab\"/></a>"
      ]
    },
    {
      "cell_type": "code",
      "metadata": {
        "id": "ra_ecRvg8J-E",
        "colab": {
          "base_uri": "https://localhost:8080/"
        },
        "outputId": "64b724f0-f0be-4626-d82f-3d642fd15f64"
      },
      "source": [
        "import pandas as pd\n",
        "import numpy as np\n",
        "import warnings\n",
        "warnings.filterwarnings(\"ignore\")\n",
        "from google.colab import drive \n",
        "drive.mount('/content/drive')\n",
        "\n",
        "path=\"/content/drive/My Drive/data/fer2013.csv\"\n",
        "data=pd.read_csv(path)\n",
        "\n",
        "width, height = 48, 48\n",
        "\n",
        "datapoints = data['pixels'].tolist()\n",
        "\n",
        "#getting features for training\n",
        "X = []\n",
        "for xseq in datapoints:\n",
        "    xx = [int(xp) for xp in xseq.split(' ')]\n",
        "    xx = np.asarray(xx).reshape(width, height)\n",
        "    X.append(xx.astype('float32'))\n",
        "\n",
        "X = np.asarray(X)\n",
        "X = np.expand_dims(X, -1)\n",
        "\n",
        "#getting labels for training\n",
        "y = pd.get_dummies(data['emotion']).to_numpy()\n",
        "\n",
        "#storing them using numpy\n",
        "np.save('fdataX', X)\n",
        "np.save('flabels', y)\n",
        "\n",
        "print(\"Preprocessing Done\")\n",
        "print(\"Number of Features: \"+str(len(X[0])))\n",
        "print(\"Number of Labels: \"+ str(len(y[0])))\n",
        "print(\"Number of examples in dataset:\"+str(len(X)))\n",
        "print(\"X,y stored in fdataX.npy and flabels.npy respectively\")"
      ],
      "execution_count": null,
      "outputs": [
        {
          "output_type": "stream",
          "text": [
            "Drive already mounted at /content/drive; to attempt to forcibly remount, call drive.mount(\"/content/drive\", force_remount=True).\n",
            "Preprocessing Done\n",
            "Number of Features: 48\n",
            "Number of Labels: 7\n",
            "Number of examples in dataset:35887\n",
            "X,y stored in fdataX.npy and flabels.npy respectively\n"
          ],
          "name": "stdout"
        }
      ]
    },
    {
      "cell_type": "code",
      "metadata": {
        "id": "l_u4O7jN8rcQ"
      },
      "source": [
        "import sys, os\n",
        "import pandas as pd\n",
        "import numpy as np\n",
        "from sklearn.model_selection import train_test_split\n",
        "from keras.models import Sequential\n",
        "from keras.layers import Dense, Dropout, Activation, Flatten\n",
        "from keras.layers import Conv2D, MaxPooling2D, BatchNormalization\n",
        "from keras.losses import categorical_crossentropy\n",
        "from keras.optimizers import Adam\n",
        "from keras.regularizers import l2\n",
        "\n",
        "num_features = 64\n",
        "num_labels = 7\n",
        "batch_size = 64\n",
        "epochs = 100\n",
        "width, height = 48, 48\n",
        "\n",
        "x = np.load('./fdataX.npy')\n",
        "y = np.load('./flabels.npy')\n",
        "\n",
        "x -= np.mean(x, axis=0)\n",
        "x /= np.std(x, axis=0)\n",
        "\n",
        "#for xx in range(10):\n",
        "#    plt.figure(xx)\n",
        "#    plt.imshow(x[xx].reshape((48, 48)), interpolation='none', cmap='gray')\n",
        "#plt.show()\n",
        "\n",
        "#splitting into training, validation and testing data\n",
        "X_train, X_test, y_train, y_test = train_test_split(x, y, test_size=0.1, random_state=42)\n",
        "X_train, X_valid, y_train, y_valid = train_test_split(X_train, y_train, test_size=0.1, random_state=41)\n",
        "\n",
        "#saving the test samples to be used later\n",
        "np.save('modXtest', X_test)\n",
        "np.save('modytest', y_test)"
      ],
      "execution_count": null,
      "outputs": []
    },
    {
      "cell_type": "code",
      "metadata": {
        "id": "wiArMTqL-Tfu",
        "colab": {
          "base_uri": "https://localhost:8080/"
        },
        "outputId": "9ec1a473-365c-493c-827d-a94b40219cee"
      },
      "source": [
        "model = Sequential()\n",
        "\n",
        "model.add(Conv2D(num_features, kernel_size=(3, 3), activation='relu', input_shape=(width, height, 1), data_format='channels_last', kernel_regularizer=l2(0.01)))\n",
        "model.add(Conv2D(num_features, kernel_size=(3, 3), activation='relu', padding='same'))\n",
        "model.add(BatchNormalization())\n",
        "model.add(MaxPooling2D(pool_size=(2, 2), strides=(2, 2)))\n",
        "model.add(Dropout(0.5))\n",
        "\n",
        "model.add(Conv2D(2*num_features, kernel_size=(3, 3), activation='relu', padding='same'))\n",
        "model.add(BatchNormalization())\n",
        "model.add(Conv2D(2*num_features, kernel_size=(3, 3), activation='relu', padding='same'))\n",
        "model.add(BatchNormalization())\n",
        "model.add(MaxPooling2D(pool_size=(2, 2), strides=(2, 2)))\n",
        "model.add(Dropout(0.5))\n",
        "\n",
        "model.add(Conv2D(2*2*num_features, kernel_size=(3, 3), activation='relu', padding='same'))\n",
        "model.add(BatchNormalization())\n",
        "model.add(Conv2D(2*2*num_features, kernel_size=(3, 3), activation='relu', padding='same'))\n",
        "model.add(BatchNormalization())\n",
        "model.add(MaxPooling2D(pool_size=(2, 2), strides=(2, 2)))\n",
        "model.add(Dropout(0.5))\n",
        "\n",
        "model.add(Conv2D(2*2*2*num_features, kernel_size=(3, 3), activation='relu', padding='same'))\n",
        "model.add(BatchNormalization())\n",
        "model.add(Conv2D(2*2*2*num_features, kernel_size=(3, 3), activation='relu', padding='same'))\n",
        "model.add(BatchNormalization())\n",
        "model.add(MaxPooling2D(pool_size=(2, 2), strides=(2, 2)))\n",
        "model.add(Dropout(0.5))\n",
        "\n",
        "model.add(Flatten())\n",
        "\n",
        "model.add(Dense(2*2*2*num_features, activation='relu'))\n",
        "model.add(Dropout(0.4))\n",
        "model.add(Dense(2*2*num_features, activation='relu'))\n",
        "model.add(Dropout(0.4))\n",
        "model.add(Dense(2*num_features, activation='relu'))\n",
        "model.add(Dropout(0.5))\n",
        "\n",
        "model.add(Dense(num_labels, activation='softmax'))\n",
        "\n",
        "model.summary()"
      ],
      "execution_count": null,
      "outputs": [
        {
          "output_type": "stream",
          "text": [
            "Model: \"sequential\"\n",
            "_________________________________________________________________\n",
            "Layer (type)                 Output Shape              Param #   \n",
            "=================================================================\n",
            "conv2d (Conv2D)              (None, 46, 46, 64)        640       \n",
            "_________________________________________________________________\n",
            "conv2d_1 (Conv2D)            (None, 46, 46, 64)        36928     \n",
            "_________________________________________________________________\n",
            "batch_normalization (BatchNo (None, 46, 46, 64)        256       \n",
            "_________________________________________________________________\n",
            "max_pooling2d (MaxPooling2D) (None, 23, 23, 64)        0         \n",
            "_________________________________________________________________\n",
            "dropout (Dropout)            (None, 23, 23, 64)        0         \n",
            "_________________________________________________________________\n",
            "conv2d_2 (Conv2D)            (None, 23, 23, 128)       73856     \n",
            "_________________________________________________________________\n",
            "batch_normalization_1 (Batch (None, 23, 23, 128)       512       \n",
            "_________________________________________________________________\n",
            "conv2d_3 (Conv2D)            (None, 23, 23, 128)       147584    \n",
            "_________________________________________________________________\n",
            "batch_normalization_2 (Batch (None, 23, 23, 128)       512       \n",
            "_________________________________________________________________\n",
            "max_pooling2d_1 (MaxPooling2 (None, 11, 11, 128)       0         \n",
            "_________________________________________________________________\n",
            "dropout_1 (Dropout)          (None, 11, 11, 128)       0         \n",
            "_________________________________________________________________\n",
            "conv2d_4 (Conv2D)            (None, 11, 11, 256)       295168    \n",
            "_________________________________________________________________\n",
            "batch_normalization_3 (Batch (None, 11, 11, 256)       1024      \n",
            "_________________________________________________________________\n",
            "conv2d_5 (Conv2D)            (None, 11, 11, 256)       590080    \n",
            "_________________________________________________________________\n",
            "batch_normalization_4 (Batch (None, 11, 11, 256)       1024      \n",
            "_________________________________________________________________\n",
            "max_pooling2d_2 (MaxPooling2 (None, 5, 5, 256)         0         \n",
            "_________________________________________________________________\n",
            "dropout_2 (Dropout)          (None, 5, 5, 256)         0         \n",
            "_________________________________________________________________\n",
            "conv2d_6 (Conv2D)            (None, 5, 5, 512)         1180160   \n",
            "_________________________________________________________________\n",
            "batch_normalization_5 (Batch (None, 5, 5, 512)         2048      \n",
            "_________________________________________________________________\n",
            "conv2d_7 (Conv2D)            (None, 5, 5, 512)         2359808   \n",
            "_________________________________________________________________\n",
            "batch_normalization_6 (Batch (None, 5, 5, 512)         2048      \n",
            "_________________________________________________________________\n",
            "max_pooling2d_3 (MaxPooling2 (None, 2, 2, 512)         0         \n",
            "_________________________________________________________________\n",
            "dropout_3 (Dropout)          (None, 2, 2, 512)         0         \n",
            "_________________________________________________________________\n",
            "flatten (Flatten)            (None, 2048)              0         \n",
            "_________________________________________________________________\n",
            "dense (Dense)                (None, 512)               1049088   \n",
            "_________________________________________________________________\n",
            "dropout_4 (Dropout)          (None, 512)               0         \n",
            "_________________________________________________________________\n",
            "dense_1 (Dense)              (None, 256)               131328    \n",
            "_________________________________________________________________\n",
            "dropout_5 (Dropout)          (None, 256)               0         \n",
            "_________________________________________________________________\n",
            "dense_2 (Dense)              (None, 128)               32896     \n",
            "_________________________________________________________________\n",
            "dropout_6 (Dropout)          (None, 128)               0         \n",
            "_________________________________________________________________\n",
            "dense_3 (Dense)              (None, 7)                 903       \n",
            "=================================================================\n",
            "Total params: 5,905,863\n",
            "Trainable params: 5,902,151\n",
            "Non-trainable params: 3,712\n",
            "_________________________________________________________________\n"
          ],
          "name": "stdout"
        }
      ]
    },
    {
      "cell_type": "code",
      "metadata": {
        "id": "hGgOSKrP-e8N",
        "colab": {
          "base_uri": "https://localhost:8080/"
        },
        "outputId": "553f32fc-d873-490e-aa9f-cb90b7ee1d43"
      },
      "source": [
        "#Compliling the model with adam optimixer and categorical crossentropy loss\n",
        "model.compile(loss=categorical_crossentropy,\n",
        "              optimizer=Adam(lr=0.001, beta_1=0.9, beta_2=0.999, epsilon=1e-7),\n",
        "              metrics=['accuracy'])\n",
        "from keras.callbacks import EarlyStopping\n",
        "from tensorflow.keras.callbacks import ReduceLROnPlateau\n",
        "lr_reducer = ReduceLROnPlateau(monitor='val_loss', factor=0.9, patience=3)\n",
        "early_stopper = EarlyStopping(monitor='val_accuracy', min_delta=0, patience=6, mode='auto')\n",
        "#training the model\n",
        "model.fit(np.array(X_train), np.array(y_train),\n",
        "          batch_size=batch_size,\n",
        "          epochs=epochs,\n",
        "          verbose=1,\n",
        "          validation_data=(np.array(X_valid), np.array(y_valid)),\n",
        "          shuffle=True,callbacks=[lr_reducer,early_stopper])\n",
        "\n"
      ],
      "execution_count": null,
      "outputs": [
        {
          "output_type": "stream",
          "text": [
            "Epoch 1/100\n",
            "455/455 [==============================] - 19s 42ms/step - loss: 1.9874 - accuracy: 0.2143 - val_loss: 1.8138 - val_accuracy: 0.2594\n",
            "Epoch 2/100\n",
            "455/455 [==============================] - 19s 41ms/step - loss: 1.8226 - accuracy: 0.2535 - val_loss: 1.7778 - val_accuracy: 0.2644\n",
            "Epoch 3/100\n",
            "455/455 [==============================] - 19s 41ms/step - loss: 1.7454 - accuracy: 0.2916 - val_loss: 1.6235 - val_accuracy: 0.3282\n",
            "Epoch 4/100\n",
            "455/455 [==============================] - 19s 41ms/step - loss: 1.6209 - accuracy: 0.3532 - val_loss: 1.4560 - val_accuracy: 0.4322\n",
            "Epoch 5/100\n",
            "455/455 [==============================] - 19s 41ms/step - loss: 1.5172 - accuracy: 0.4074 - val_loss: 1.4014 - val_accuracy: 0.4495\n",
            "Epoch 6/100\n",
            "455/455 [==============================] - 19s 42ms/step - loss: 1.4581 - accuracy: 0.4305 - val_loss: 1.3706 - val_accuracy: 0.4663\n",
            "Epoch 7/100\n",
            "455/455 [==============================] - 19s 42ms/step - loss: 1.4095 - accuracy: 0.4594 - val_loss: 1.3046 - val_accuracy: 0.4833\n",
            "Epoch 8/100\n",
            "455/455 [==============================] - 19s 42ms/step - loss: 1.3760 - accuracy: 0.4723 - val_loss: 1.2685 - val_accuracy: 0.5121\n",
            "Epoch 9/100\n",
            "455/455 [==============================] - 19s 42ms/step - loss: 1.3306 - accuracy: 0.4956 - val_loss: 1.2316 - val_accuracy: 0.5353\n",
            "Epoch 10/100\n",
            "455/455 [==============================] - 19s 42ms/step - loss: 1.3051 - accuracy: 0.5043 - val_loss: 1.2392 - val_accuracy: 0.5325\n",
            "Epoch 11/100\n",
            "455/455 [==============================] - 19s 42ms/step - loss: 1.2824 - accuracy: 0.5141 - val_loss: 1.1935 - val_accuracy: 0.5430\n",
            "Epoch 12/100\n",
            "455/455 [==============================] - 19s 42ms/step - loss: 1.2561 - accuracy: 0.5297 - val_loss: 1.1605 - val_accuracy: 0.5616\n",
            "Epoch 13/100\n",
            "455/455 [==============================] - 20s 43ms/step - loss: 1.2283 - accuracy: 0.5403 - val_loss: 1.1524 - val_accuracy: 0.5672\n",
            "Epoch 14/100\n",
            "455/455 [==============================] - 19s 43ms/step - loss: 1.2122 - accuracy: 0.5513 - val_loss: 1.1345 - val_accuracy: 0.5836\n",
            "Epoch 15/100\n",
            "455/455 [==============================] - 19s 43ms/step - loss: 1.1884 - accuracy: 0.5634 - val_loss: 1.1523 - val_accuracy: 0.5681\n",
            "Epoch 16/100\n",
            "455/455 [==============================] - 19s 43ms/step - loss: 1.1615 - accuracy: 0.5737 - val_loss: 1.1200 - val_accuracy: 0.5845\n",
            "Epoch 17/100\n",
            "455/455 [==============================] - 20s 43ms/step - loss: 1.1429 - accuracy: 0.5853 - val_loss: 1.1217 - val_accuracy: 0.5777\n",
            "Epoch 18/100\n",
            "455/455 [==============================] - 20s 43ms/step - loss: 1.1217 - accuracy: 0.5936 - val_loss: 1.0780 - val_accuracy: 0.6059\n",
            "Epoch 19/100\n",
            "455/455 [==============================] - 19s 43ms/step - loss: 1.0994 - accuracy: 0.5991 - val_loss: 1.0771 - val_accuracy: 0.6034\n",
            "Epoch 20/100\n",
            "455/455 [==============================] - 19s 43ms/step - loss: 1.0815 - accuracy: 0.6125 - val_loss: 1.0494 - val_accuracy: 0.6167\n",
            "Epoch 21/100\n",
            "455/455 [==============================] - 19s 43ms/step - loss: 1.0549 - accuracy: 0.6200 - val_loss: 1.0599 - val_accuracy: 0.6142\n",
            "Epoch 22/100\n",
            "455/455 [==============================] - 19s 43ms/step - loss: 1.0406 - accuracy: 0.6271 - val_loss: 1.0573 - val_accuracy: 0.6217\n",
            "Epoch 23/100\n",
            "455/455 [==============================] - 20s 43ms/step - loss: 1.0181 - accuracy: 0.6358 - val_loss: 1.0600 - val_accuracy: 0.6121\n",
            "Epoch 24/100\n",
            "455/455 [==============================] - 19s 43ms/step - loss: 0.9916 - accuracy: 0.6429 - val_loss: 1.0449 - val_accuracy: 0.6288\n",
            "Epoch 25/100\n",
            "455/455 [==============================] - 19s 43ms/step - loss: 0.9662 - accuracy: 0.6498 - val_loss: 1.0398 - val_accuracy: 0.6180\n",
            "Epoch 26/100\n",
            "455/455 [==============================] - 19s 43ms/step - loss: 0.9481 - accuracy: 0.6582 - val_loss: 1.0058 - val_accuracy: 0.6368\n",
            "Epoch 27/100\n",
            "455/455 [==============================] - 19s 43ms/step - loss: 0.9309 - accuracy: 0.6677 - val_loss: 1.0275 - val_accuracy: 0.6331\n",
            "Epoch 28/100\n",
            "455/455 [==============================] - 19s 43ms/step - loss: 0.9082 - accuracy: 0.6758 - val_loss: 1.0057 - val_accuracy: 0.6455\n",
            "Epoch 29/100\n",
            "455/455 [==============================] - 19s 43ms/step - loss: 0.8943 - accuracy: 0.6814 - val_loss: 1.0276 - val_accuracy: 0.6353\n",
            "Epoch 30/100\n",
            "455/455 [==============================] - 19s 43ms/step - loss: 0.8628 - accuracy: 0.6915 - val_loss: 1.0086 - val_accuracy: 0.6415\n",
            "Epoch 31/100\n",
            "455/455 [==============================] - 19s 43ms/step - loss: 0.8455 - accuracy: 0.6991 - val_loss: 1.0115 - val_accuracy: 0.6480\n",
            "Epoch 32/100\n",
            "455/455 [==============================] - 19s 43ms/step - loss: 0.8250 - accuracy: 0.7053 - val_loss: 1.0023 - val_accuracy: 0.6511\n",
            "Epoch 33/100\n",
            "455/455 [==============================] - 19s 43ms/step - loss: 0.8068 - accuracy: 0.7126 - val_loss: 0.9947 - val_accuracy: 0.6588\n",
            "Epoch 34/100\n",
            "455/455 [==============================] - 19s 43ms/step - loss: 0.7851 - accuracy: 0.7222 - val_loss: 0.9955 - val_accuracy: 0.6579\n",
            "Epoch 35/100\n",
            "455/455 [==============================] - 19s 43ms/step - loss: 0.7724 - accuracy: 0.7266 - val_loss: 1.0262 - val_accuracy: 0.6551\n",
            "Epoch 36/100\n",
            "455/455 [==============================] - 19s 43ms/step - loss: 0.7552 - accuracy: 0.7313 - val_loss: 1.0371 - val_accuracy: 0.6508\n",
            "Epoch 37/100\n",
            "455/455 [==============================] - 19s 43ms/step - loss: 0.7311 - accuracy: 0.7419 - val_loss: 1.0289 - val_accuracy: 0.6650\n",
            "Epoch 38/100\n",
            "455/455 [==============================] - 19s 43ms/step - loss: 0.7164 - accuracy: 0.7481 - val_loss: 1.0142 - val_accuracy: 0.6610\n",
            "Epoch 39/100\n",
            "455/455 [==============================] - 19s 43ms/step - loss: 0.7007 - accuracy: 0.7544 - val_loss: 1.0229 - val_accuracy: 0.6659\n",
            "Epoch 40/100\n",
            "455/455 [==============================] - 19s 43ms/step - loss: 0.6760 - accuracy: 0.7604 - val_loss: 1.0270 - val_accuracy: 0.6548\n",
            "Epoch 41/100\n",
            "455/455 [==============================] - 19s 43ms/step - loss: 0.6580 - accuracy: 0.7673 - val_loss: 1.0250 - val_accuracy: 0.6638\n",
            "Epoch 42/100\n",
            "455/455 [==============================] - 19s 43ms/step - loss: 0.6483 - accuracy: 0.7697 - val_loss: 1.0268 - val_accuracy: 0.6672\n",
            "Epoch 43/100\n",
            "455/455 [==============================] - 19s 43ms/step - loss: 0.6184 - accuracy: 0.7840 - val_loss: 1.0412 - val_accuracy: 0.6690\n",
            "Epoch 44/100\n",
            "455/455 [==============================] - 19s 43ms/step - loss: 0.5934 - accuracy: 0.7901 - val_loss: 1.0666 - val_accuracy: 0.6759\n",
            "Epoch 45/100\n",
            "455/455 [==============================] - 19s 43ms/step - loss: 0.5842 - accuracy: 0.7962 - val_loss: 1.0634 - val_accuracy: 0.6718\n",
            "Epoch 46/100\n",
            "455/455 [==============================] - 19s 43ms/step - loss: 0.5685 - accuracy: 0.7995 - val_loss: 1.0795 - val_accuracy: 0.6644\n",
            "Epoch 47/100\n",
            "455/455 [==============================] - 19s 43ms/step - loss: 0.5486 - accuracy: 0.8076 - val_loss: 1.0779 - val_accuracy: 0.6666\n",
            "Epoch 48/100\n",
            "455/455 [==============================] - 19s 43ms/step - loss: 0.5373 - accuracy: 0.8128 - val_loss: 1.1363 - val_accuracy: 0.6700\n",
            "Epoch 49/100\n",
            "455/455 [==============================] - 19s 43ms/step - loss: 0.5217 - accuracy: 0.8186 - val_loss: 1.1045 - val_accuracy: 0.6715\n",
            "Epoch 50/100\n",
            "455/455 [==============================] - 19s 43ms/step - loss: 0.5014 - accuracy: 0.8269 - val_loss: 1.1504 - val_accuracy: 0.6697\n"
          ],
          "name": "stdout"
        },
        {
          "output_type": "execute_result",
          "data": {
            "text/plain": [
              "<tensorflow.python.keras.callbacks.History at 0x7f1358574fd0>"
            ]
          },
          "metadata": {
            "tags": []
          },
          "execution_count": 10
        }
      ]
    },
    {
      "cell_type": "code",
      "metadata": {
        "id": "ySjpR_ETpY-_"
      },
      "source": [
        ""
      ],
      "execution_count": null,
      "outputs": []
    },
    {
      "cell_type": "code",
      "metadata": {
        "id": "Rx60r1s9KgiG",
        "colab": {
          "base_uri": "https://localhost:8080/"
        },
        "outputId": "fd89cafa-3efc-4920-ed41-1153b09d41f6"
      },
      "source": [
        "score = model.evaluate(X_valid,y_valid, verbose=1) \n",
        "#print('Test loss:', score[0])\n",
        "print('Test accuracy:', score[1]*100)"
      ],
      "execution_count": null,
      "outputs": [
        {
          "output_type": "stream",
          "text": [
            "101/101 [==============================] - 1s 8ms/step - loss: 1.1504 - accuracy: 0.6697\n",
            "Test loss: 1.1504356861114502\n",
            "Test accuracy: 66.9659435749054\n"
          ],
          "name": "stdout"
        }
      ]
    },
    {
      "cell_type": "code",
      "metadata": {
        "id": "gQVQf3Bf9Axg"
      },
      "source": [
        "model.save('my_model.h5') "
      ],
      "execution_count": null,
      "outputs": []
    },
    {
      "cell_type": "code",
      "metadata": {
        "id": "szHtIUWZ-ydP",
        "colab": {
          "base_uri": "https://localhost:8080/",
          "height": 17
        },
        "outputId": "4c7fc748-33b9-486f-c4dc-b44a16e1ab8f"
      },
      "source": [
        "from google.colab import files\n",
        "files.download(\"my_model.h5\")"
      ],
      "execution_count": null,
      "outputs": [
        {
          "output_type": "display_data",
          "data": {
            "application/javascript": [
              "\n",
              "    async function download(id, filename, size) {\n",
              "      if (!google.colab.kernel.accessAllowed) {\n",
              "        return;\n",
              "      }\n",
              "      const div = document.createElement('div');\n",
              "      const label = document.createElement('label');\n",
              "      label.textContent = `Downloading \"${filename}\": `;\n",
              "      div.appendChild(label);\n",
              "      const progress = document.createElement('progress');\n",
              "      progress.max = size;\n",
              "      div.appendChild(progress);\n",
              "      document.body.appendChild(div);\n",
              "\n",
              "      const buffers = [];\n",
              "      let downloaded = 0;\n",
              "\n",
              "      const channel = await google.colab.kernel.comms.open(id);\n",
              "      // Send a message to notify the kernel that we're ready.\n",
              "      channel.send({})\n",
              "\n",
              "      for await (const message of channel.messages) {\n",
              "        // Send a message to notify the kernel that we're ready.\n",
              "        channel.send({})\n",
              "        if (message.buffers) {\n",
              "          for (const buffer of message.buffers) {\n",
              "            buffers.push(buffer);\n",
              "            downloaded += buffer.byteLength;\n",
              "            progress.value = downloaded;\n",
              "          }\n",
              "        }\n",
              "      }\n",
              "      const blob = new Blob(buffers, {type: 'application/binary'});\n",
              "      const a = document.createElement('a');\n",
              "      a.href = window.URL.createObjectURL(blob);\n",
              "      a.download = filename;\n",
              "      div.appendChild(a);\n",
              "      a.click();\n",
              "      div.remove();\n",
              "    }\n",
              "  "
            ],
            "text/plain": [
              "<IPython.core.display.Javascript object>"
            ]
          },
          "metadata": {
            "tags": []
          }
        },
        {
          "output_type": "display_data",
          "data": {
            "application/javascript": [
              "download(\"download_76a80874-6d83-4de1-81f0-095f21f9e8e2\", \"my_model.h5\", 71026280)"
            ],
            "text/plain": [
              "<IPython.core.display.Javascript object>"
            ]
          },
          "metadata": {
            "tags": []
          }
        }
      ]
    },
    {
      "cell_type": "code",
      "metadata": {
        "id": "EO58Ch_29XG1"
      },
      "source": [
        "import os\n",
        "\n",
        "import tensorflow as tf\n",
        "from tensorflow import keras\n"
      ],
      "execution_count": null,
      "outputs": []
    },
    {
      "cell_type": "code",
      "metadata": {
        "id": "5NDMO_7kS6Do",
        "colab": {
          "base_uri": "https://localhost:8080/"
        },
        "outputId": "4fb4f53f-d50c-4f04-db41-66ddf02c267f"
      },
      "source": [
        "# Recreate the exact same model, including its weights and the optimizer\n",
        "new_model = tf.keras.models.load_model('my_model.h5')\n",
        "\n",
        "# Show the model architecture\n",
        "new_model.summary()"
      ],
      "execution_count": null,
      "outputs": [
        {
          "output_type": "stream",
          "text": [
            "Model: \"sequential\"\n",
            "_________________________________________________________________\n",
            "Layer (type)                 Output Shape              Param #   \n",
            "=================================================================\n",
            "conv2d (Conv2D)              (None, 46, 46, 64)        640       \n",
            "_________________________________________________________________\n",
            "conv2d_1 (Conv2D)            (None, 46, 46, 64)        36928     \n",
            "_________________________________________________________________\n",
            "batch_normalization (BatchNo (None, 46, 46, 64)        256       \n",
            "_________________________________________________________________\n",
            "max_pooling2d (MaxPooling2D) (None, 23, 23, 64)        0         \n",
            "_________________________________________________________________\n",
            "dropout (Dropout)            (None, 23, 23, 64)        0         \n",
            "_________________________________________________________________\n",
            "conv2d_2 (Conv2D)            (None, 23, 23, 128)       73856     \n",
            "_________________________________________________________________\n",
            "batch_normalization_1 (Batch (None, 23, 23, 128)       512       \n",
            "_________________________________________________________________\n",
            "conv2d_3 (Conv2D)            (None, 23, 23, 128)       147584    \n",
            "_________________________________________________________________\n",
            "batch_normalization_2 (Batch (None, 23, 23, 128)       512       \n",
            "_________________________________________________________________\n",
            "max_pooling2d_1 (MaxPooling2 (None, 11, 11, 128)       0         \n",
            "_________________________________________________________________\n",
            "dropout_1 (Dropout)          (None, 11, 11, 128)       0         \n",
            "_________________________________________________________________\n",
            "conv2d_4 (Conv2D)            (None, 11, 11, 256)       295168    \n",
            "_________________________________________________________________\n",
            "batch_normalization_3 (Batch (None, 11, 11, 256)       1024      \n",
            "_________________________________________________________________\n",
            "conv2d_5 (Conv2D)            (None, 11, 11, 256)       590080    \n",
            "_________________________________________________________________\n",
            "batch_normalization_4 (Batch (None, 11, 11, 256)       1024      \n",
            "_________________________________________________________________\n",
            "max_pooling2d_2 (MaxPooling2 (None, 5, 5, 256)         0         \n",
            "_________________________________________________________________\n",
            "dropout_2 (Dropout)          (None, 5, 5, 256)         0         \n",
            "_________________________________________________________________\n",
            "conv2d_6 (Conv2D)            (None, 5, 5, 512)         1180160   \n",
            "_________________________________________________________________\n",
            "batch_normalization_5 (Batch (None, 5, 5, 512)         2048      \n",
            "_________________________________________________________________\n",
            "conv2d_7 (Conv2D)            (None, 5, 5, 512)         2359808   \n",
            "_________________________________________________________________\n",
            "batch_normalization_6 (Batch (None, 5, 5, 512)         2048      \n",
            "_________________________________________________________________\n",
            "max_pooling2d_3 (MaxPooling2 (None, 2, 2, 512)         0         \n",
            "_________________________________________________________________\n",
            "dropout_3 (Dropout)          (None, 2, 2, 512)         0         \n",
            "_________________________________________________________________\n",
            "flatten (Flatten)            (None, 2048)              0         \n",
            "_________________________________________________________________\n",
            "dense (Dense)                (None, 512)               1049088   \n",
            "_________________________________________________________________\n",
            "dropout_4 (Dropout)          (None, 512)               0         \n",
            "_________________________________________________________________\n",
            "dense_1 (Dense)              (None, 256)               131328    \n",
            "_________________________________________________________________\n",
            "dropout_5 (Dropout)          (None, 256)               0         \n",
            "_________________________________________________________________\n",
            "dense_2 (Dense)              (None, 128)               32896     \n",
            "_________________________________________________________________\n",
            "dropout_6 (Dropout)          (None, 128)               0         \n",
            "_________________________________________________________________\n",
            "dense_3 (Dense)              (None, 7)                 903       \n",
            "=================================================================\n",
            "Total params: 5,905,863\n",
            "Trainable params: 5,902,151\n",
            "Non-trainable params: 3,712\n",
            "_________________________________________________________________\n"
          ],
          "name": "stdout"
        }
      ]
    },
    {
      "cell_type": "code",
      "metadata": {
        "id": "08eMfpTwg4xN",
        "colab": {
          "base_uri": "https://localhost:8080/",
          "height": 34
        },
        "outputId": "6b122f63-a620-4eaf-8054-e6ea19dee4b1"
      },
      "source": [
        "fer_json = model.to_json()\n",
        "with open(\"fermodel.json\", \"w\") as json_file:\n",
        "    json_file.write(fer_json)\n",
        "files.download(\"fermodel.json\")\n",
        "   \n",
        "model.save_weights(\"ferweights.h5\")\n",
        "files.download(\"ferweights.h5\")\n",
        "\n",
        "print(\"Saved model to disk\")"
      ],
      "execution_count": null,
      "outputs": [
        {
          "output_type": "display_data",
          "data": {
            "application/javascript": [
              "\n",
              "    async function download(id, filename, size) {\n",
              "      if (!google.colab.kernel.accessAllowed) {\n",
              "        return;\n",
              "      }\n",
              "      const div = document.createElement('div');\n",
              "      const label = document.createElement('label');\n",
              "      label.textContent = `Downloading \"${filename}\": `;\n",
              "      div.appendChild(label);\n",
              "      const progress = document.createElement('progress');\n",
              "      progress.max = size;\n",
              "      div.appendChild(progress);\n",
              "      document.body.appendChild(div);\n",
              "\n",
              "      const buffers = [];\n",
              "      let downloaded = 0;\n",
              "\n",
              "      const channel = await google.colab.kernel.comms.open(id);\n",
              "      // Send a message to notify the kernel that we're ready.\n",
              "      channel.send({})\n",
              "\n",
              "      for await (const message of channel.messages) {\n",
              "        // Send a message to notify the kernel that we're ready.\n",
              "        channel.send({})\n",
              "        if (message.buffers) {\n",
              "          for (const buffer of message.buffers) {\n",
              "            buffers.push(buffer);\n",
              "            downloaded += buffer.byteLength;\n",
              "            progress.value = downloaded;\n",
              "          }\n",
              "        }\n",
              "      }\n",
              "      const blob = new Blob(buffers, {type: 'application/binary'});\n",
              "      const a = document.createElement('a');\n",
              "      a.href = window.URL.createObjectURL(blob);\n",
              "      a.download = filename;\n",
              "      div.appendChild(a);\n",
              "      a.click();\n",
              "      div.remove();\n",
              "    }\n",
              "  "
            ],
            "text/plain": [
              "<IPython.core.display.Javascript object>"
            ]
          },
          "metadata": {
            "tags": []
          }
        },
        {
          "output_type": "display_data",
          "data": {
            "application/javascript": [
              "download(\"download_285fe532-ebee-4107-a749-e6fc8f89a8a5\", \"fermodel.json\", 12430)"
            ],
            "text/plain": [
              "<IPython.core.display.Javascript object>"
            ]
          },
          "metadata": {
            "tags": []
          }
        },
        {
          "output_type": "display_data",
          "data": {
            "application/javascript": [
              "\n",
              "    async function download(id, filename, size) {\n",
              "      if (!google.colab.kernel.accessAllowed) {\n",
              "        return;\n",
              "      }\n",
              "      const div = document.createElement('div');\n",
              "      const label = document.createElement('label');\n",
              "      label.textContent = `Downloading \"${filename}\": `;\n",
              "      div.appendChild(label);\n",
              "      const progress = document.createElement('progress');\n",
              "      progress.max = size;\n",
              "      div.appendChild(progress);\n",
              "      document.body.appendChild(div);\n",
              "\n",
              "      const buffers = [];\n",
              "      let downloaded = 0;\n",
              "\n",
              "      const channel = await google.colab.kernel.comms.open(id);\n",
              "      // Send a message to notify the kernel that we're ready.\n",
              "      channel.send({})\n",
              "\n",
              "      for await (const message of channel.messages) {\n",
              "        // Send a message to notify the kernel that we're ready.\n",
              "        channel.send({})\n",
              "        if (message.buffers) {\n",
              "          for (const buffer of message.buffers) {\n",
              "            buffers.push(buffer);\n",
              "            downloaded += buffer.byteLength;\n",
              "            progress.value = downloaded;\n",
              "          }\n",
              "        }\n",
              "      }\n",
              "      const blob = new Blob(buffers, {type: 'application/binary'});\n",
              "      const a = document.createElement('a');\n",
              "      a.href = window.URL.createObjectURL(blob);\n",
              "      a.download = filename;\n",
              "      div.appendChild(a);\n",
              "      a.click();\n",
              "      div.remove();\n",
              "    }\n",
              "  "
            ],
            "text/plain": [
              "<IPython.core.display.Javascript object>"
            ]
          },
          "metadata": {
            "tags": []
          }
        },
        {
          "output_type": "display_data",
          "data": {
            "application/javascript": [
              "download(\"download_4216ae18-0c35-4f6d-bbd4-78122c35f682\", \"ferweights.h5\", 23700600)"
            ],
            "text/plain": [
              "<IPython.core.display.Javascript object>"
            ]
          },
          "metadata": {
            "tags": []
          }
        },
        {
          "output_type": "stream",
          "text": [
            "Saved model to disk\n"
          ],
          "name": "stdout"
        }
      ]
    },
    {
      "cell_type": "code",
      "metadata": {
        "id": "bKH8MzHy9V4m"
      },
      "source": [
        ""
      ],
      "execution_count": null,
      "outputs": []
    },
    {
      "cell_type": "code",
      "metadata": {
        "id": "e3bm2Sg9QqQ_",
        "colab": {
          "base_uri": "https://localhost:8080/"
        },
        "outputId": "4f58f924-413c-4723-aebc-1927042749c2"
      },
      "source": [
        "import tensorflow as tf\n",
        "saved_model_dir = '/content/TFLite'\n",
        "tf.saved_model.save(model, saved_model_dir)\n",
        "\n",
        "converter = tf.lite.TFLiteConverter.from_saved_model(saved_model_dir)\n",
        "converter.optimizations=[tf.lite.Optimize.DEFAULT]\n",
        "\n",
        "tflite_model = converter.convert()\n",
        "\n",
        "with open('FERmodel.tflite', 'wb') as f:\n",
        "  f.write(tflite_model)\n"
      ],
      "execution_count": null,
      "outputs": [
        {
          "output_type": "stream",
          "text": [
            "INFO:tensorflow:Assets written to: /content/TFLite/assets\n"
          ],
          "name": "stdout"
        },
        {
          "output_type": "stream",
          "text": [
            "INFO:tensorflow:Assets written to: /content/TFLite/assets\n"
          ],
          "name": "stderr"
        }
      ]
    },
    {
      "cell_type": "code",
      "metadata": {
        "id": "5vwyQvwsmxwK",
        "colab": {
          "base_uri": "https://localhost:8080/",
          "height": 35
        },
        "outputId": "ffebd468-5422-4cae-a008-75c6b66a21fb"
      },
      "source": [
        "tf.__version__"
      ],
      "execution_count": null,
      "outputs": [
        {
          "output_type": "execute_result",
          "data": {
            "application/vnd.google.colaboratory.intrinsic+json": {
              "type": "string"
            },
            "text/plain": [
              "'2.3.0'"
            ]
          },
          "metadata": {
            "tags": []
          },
          "execution_count": 9
        }
      ]
    },
    {
      "cell_type": "code",
      "metadata": {
        "id": "QfkpdPr3RCLm"
      },
      "source": [
        "labels= \"Angry\\nDisgust\\nFear\\nHappy\\nSad\\nSurprise\\nNeutral\"\n",
        "with open('labels.txt','w')  as f:\n",
        "  f.write(labels)\n",
        "\n"
      ],
      "execution_count": null,
      "outputs": []
    },
    {
      "cell_type": "code",
      "metadata": {
        "id": "KKH0svXkq97q"
      },
      "source": [
        "import cv2\n",
        "emotions = ('angry', 'disgust', 'fear', 'happy', 'sad', 'surprise', 'neutral')\n",
        "        predicted_emotion = emotions[max_index]\n",
        "def _predict(path):\n",
        "  facecasc = cv2.CascadeClassifier('/content/haarcascade_frontalface_default.xml')\n",
        "  imagePath = '/content/'+path\n",
        "  image = cv2.imread(imagePath)\n",
        "  gray = cv2.cvtColor(image, cv2.COLOR_BGR2GRAY)\n",
        "  faces = facecasc.detectMultiScale(gray,scaleFactor=1.3, minNeighbors=10)\n",
        "  print(\"No of faces : \",len(faces))\n",
        "  i = 1\n",
        "  for (x, y, w, h) in faces:\n",
        "    i=i+1\n",
        "    cv2.rectangle(image, (x, y), (x+w, y+h), (0, 255, 0), 2)\n",
        "    roi_gray = gray[y:y + h, x:x + w]                      #croping\n",
        "    cropped_img = np.expand_dims(np.expand_dims(cv2.resize(roi_gray, (48, 48)), -1), 0)\n",
        "    prediction = model.predict(cropped_img)\n",
        "\n",
        "    maxindex = int(np.argmax(prediction))\n",
        "    print(\"person \",i,\" : \",emotion_dict[maxindex], \"-->\",emojis[maxindex])\n",
        "    cv2.putText(image, emotion_dict[maxindex], (x+10, y-20), cv2.FONT_HERSHEY_SIMPLEX, 0.7, (255, 255, 255), 2)  \n",
        "                                              #if text is not apeared , change coordinates. it may work\n",
        "  \n",
        "  cv2.imshow(image)\n"
      ],
      "execution_count": null,
      "outputs": []
    },
    {
      "cell_type": "code",
      "metadata": {
        "id": "he0jmBWw3GhJ",
        "colab": {
          "base_uri": "https://localhost:8080/",
          "height": 180
        },
        "outputId": "6113e27c-5d13-4c82-b429-9b114d81c1ee"
      },
      "source": [
        "!mkdir -p saved_model\n",
        "model.save('saved_model/my_model') "
      ],
      "execution_count": null,
      "outputs": [
        {
          "output_type": "error",
          "ename": "NameError",
          "evalue": "ignored",
          "traceback": [
            "\u001b[0;31m---------------------------------------------------------------------------\u001b[0m",
            "\u001b[0;31mNameError\u001b[0m                                 Traceback (most recent call last)",
            "\u001b[0;32m<ipython-input-1-d21ff85bf999>\u001b[0m in \u001b[0;36m<module>\u001b[0;34m()\u001b[0m\n\u001b[1;32m      1\u001b[0m \u001b[0mget_ipython\u001b[0m\u001b[0;34m(\u001b[0m\u001b[0;34m)\u001b[0m\u001b[0;34m.\u001b[0m\u001b[0msystem\u001b[0m\u001b[0;34m(\u001b[0m\u001b[0;34m'mkdir -p saved_model'\u001b[0m\u001b[0;34m)\u001b[0m\u001b[0;34m\u001b[0m\u001b[0;34m\u001b[0m\u001b[0m\n\u001b[0;32m----> 2\u001b[0;31m \u001b[0mmodel\u001b[0m\u001b[0;34m.\u001b[0m\u001b[0msave\u001b[0m\u001b[0;34m(\u001b[0m\u001b[0;34m'saved_model/my_model'\u001b[0m\u001b[0;34m)\u001b[0m\u001b[0;34m\u001b[0m\u001b[0;34m\u001b[0m\u001b[0m\n\u001b[0m",
            "\u001b[0;31mNameError\u001b[0m: name 'model' is not defined"
          ]
        }
      ]
    },
    {
      "cell_type": "code",
      "metadata": {
        "id": "gl_pDj-k3HpK",
        "colab": {
          "base_uri": "https://localhost:8080/",
          "height": 214
        },
        "outputId": "783039e2-d233-4142-8881-464bfbf06080"
      },
      "source": [
        "model.save('model.h5')\n",
        "model_file = drive.CreateFile({'title' : 'model.h5'})                      \n",
        "model_file.SetContentFile('model.h5')                       \n",
        "model_file.Upload()"
      ],
      "execution_count": null,
      "outputs": [
        {
          "output_type": "error",
          "ename": "NameError",
          "evalue": "ignored",
          "traceback": [
            "\u001b[0;31m---------------------------------------------------------------------------\u001b[0m",
            "\u001b[0;31mNameError\u001b[0m                                 Traceback (most recent call last)",
            "\u001b[0;32m<ipython-input-3-0aba42b0354f>\u001b[0m in \u001b[0;36m<module>\u001b[0;34m()\u001b[0m\n\u001b[0;32m----> 1\u001b[0;31m \u001b[0mmodel\u001b[0m\u001b[0;34m.\u001b[0m\u001b[0msave\u001b[0m\u001b[0;34m(\u001b[0m\u001b[0;34m'model.h5'\u001b[0m\u001b[0;34m)\u001b[0m\u001b[0;34m\u001b[0m\u001b[0;34m\u001b[0m\u001b[0m\n\u001b[0m\u001b[1;32m      2\u001b[0m \u001b[0mmodel_file\u001b[0m \u001b[0;34m=\u001b[0m \u001b[0mdrive\u001b[0m\u001b[0;34m.\u001b[0m\u001b[0mCreateFile\u001b[0m\u001b[0;34m(\u001b[0m\u001b[0;34m{\u001b[0m\u001b[0;34m'title'\u001b[0m \u001b[0;34m:\u001b[0m \u001b[0;34m'model.h5'\u001b[0m\u001b[0;34m}\u001b[0m\u001b[0;34m)\u001b[0m\u001b[0;34m\u001b[0m\u001b[0;34m\u001b[0m\u001b[0m\n\u001b[1;32m      3\u001b[0m \u001b[0mmodel_file\u001b[0m\u001b[0;34m.\u001b[0m\u001b[0mSetContentFile\u001b[0m\u001b[0;34m(\u001b[0m\u001b[0;34m'model.h5'\u001b[0m\u001b[0;34m)\u001b[0m\u001b[0;34m\u001b[0m\u001b[0;34m\u001b[0m\u001b[0m\n\u001b[1;32m      4\u001b[0m \u001b[0mmodel_file\u001b[0m\u001b[0;34m.\u001b[0m\u001b[0mUpload\u001b[0m\u001b[0;34m(\u001b[0m\u001b[0;34m)\u001b[0m\u001b[0;34m\u001b[0m\u001b[0;34m\u001b[0m\u001b[0m\n",
            "\u001b[0;31mNameError\u001b[0m: name 'model' is not defined"
          ]
        }
      ]
    },
    {
      "cell_type": "markdown",
      "metadata": {
        "id": "b3Pr7NnY4J0n"
      },
      "source": [
        ""
      ]
    }
  ]
}